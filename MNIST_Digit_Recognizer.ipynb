{
 "cells": [
  {
   "cell_type": "markdown",
   "metadata": {},
   "source": [
    "# Training to recognize handwritten digits from MNIST"
   ]
  },
  {
   "cell_type": "markdown",
   "metadata": {},
   "source": [
    "#### Keep the messeges short"
   ]
  },
  {
   "cell_type": "code",
   "execution_count": 1,
   "metadata": {
    "id": "RvqyWZWEGlbE"
   },
   "outputs": [],
   "source": [
    "import os\n",
    "os.environ['TF_CPP_MIN_LOG_LEVEL']='2'\n",
    "#too keep the details short, but long enough to see the error messages"
   ]
  },
  {
   "cell_type": "markdown",
   "metadata": {},
   "source": [
    "#### Import needed APIs"
   ]
  },
  {
   "cell_type": "code",
   "execution_count": 11,
   "metadata": {
    "id": "XE02CDoPIN_a"
   },
   "outputs": [],
   "source": [
    "import tensorflow as tf\n",
    "from tensorflow import keras\n",
    "#keras is a tensorflow api for nn\n",
    "from tensorflow.keras import layers\n",
    "from tensorflow import keras\n",
    "from keras.models import Sequential\n",
    "from keras.layers import Dense, Dropout, Activation\n",
    "from tensorflow.keras import layers\n",
    "#Layers are the basic building blocks of NN in Keras.\n",
    "from tensorflow.keras.datasets import mnist\n",
    "#mnist is a data set for visual recognition of handwritten digits, these are already-vectorized, in Numpy format\n",
    "from matplotlib import pyplot as plt\n",
    "#for performance visualization"
   ]
  },
  {
   "cell_type": "markdown",
   "metadata": {},
   "source": [
    "#### Load the data"
   ]
  },
  {
   "cell_type": "code",
   "execution_count": 3,
   "metadata": {
    "colab": {
     "base_uri": "https://localhost:8080/"
    },
    "id": "0gufpQUnIRWE",
    "outputId": "3562eb49-3534-4816-de0f-febaa25bfd8c"
   },
   "outputs": [
    {
     "name": "stdout",
     "output_type": "stream",
     "text": [
      "(60000, 28, 28)\n",
      "(60000,)\n"
     ]
    }
   ],
   "source": [
    "#here we're going to load the data\n",
    "(x_train,y_train),(x_test, y_test) = mnist.load_data() \n",
    "print(x_train.shape)\n",
    "print(y_train.shape)\n"
   ]
  },
  {
   "cell_type": "markdown",
   "metadata": {},
   "source": [
    "####  Reshape the data"
   ]
  },
  {
   "cell_type": "code",
   "execution_count": 4,
   "metadata": {
    "colab": {
     "base_uri": "https://localhost:8080/"
    },
    "id": "GmPY740RMBL1",
    "outputId": "053c2de1-8fb1-4830-bc93-8437ae8418f9"
   },
   "outputs": [
    {
     "name": "stdout",
     "output_type": "stream",
     "text": [
      "(60000, 784)\n"
     ]
    }
   ],
   "source": [
    "#we see that the x shape is a bit of a problem, for the NN we need one long column\n",
    "#so I'll flatten/reshapw/ covert the datasets\n",
    "x_train= x_train.reshape(-1,28*28).astype(\"float32\")/255\n",
    "x_test = x_test.reshape(-1,28*28).astype(\"float32\")/255\n",
    "print(x_train.shape)"
   ]
  },
  {
   "cell_type": "markdown",
   "metadata": {},
   "source": [
    "####  Create the model"
   ]
  },
  {
   "cell_type": "code",
   "execution_count": 5,
   "metadata": {
    "id": "jyimH2G6nXT8"
   },
   "outputs": [],
   "source": [
    "import tensorflow as tf\n",
    "from tensorflow import keras\n",
    "\n",
    "from keras.layers.activation import relu\n",
    "from keras.layers.serialization import activation\n",
    "#can also do the training layer by layer\n",
    "model=keras.Sequential()\n",
    "model.add(keras.Input(shape=28*28))\n",
    "model.add(layers.Dense(512, activation='relu'))\n",
    "model.add(layers.Dense(256, activation='relu'))\n",
    "model.add(layers.Dense(10))"
   ]
  },
  {
   "cell_type": "markdown",
   "metadata": {},
   "source": [
    "####  Compile the model"
   ]
  },
  {
   "cell_type": "code",
   "execution_count": 6,
   "metadata": {
    "colab": {
     "base_uri": "https://localhost:8080/"
    },
    "id": "MKdRBdOd-QAF",
    "outputId": "2462b365-dde5-4238-e5d2-135b6acd6bc3"
   },
   "outputs": [
    {
     "name": "stderr",
     "output_type": "stream",
     "text": [
      "C:\\Users\\86176\\AppData\\Local\\Programs\\Python\\Python39\\lib\\site-packages\\keras\\optimizers\\optimizer_v2\\adam.py:114: UserWarning: The `lr` argument is deprecated, use `learning_rate` instead.\n",
      "  super().__init__(name, **kwargs)\n"
     ]
    }
   ],
   "source": [
    "from keras.optimizers.optimizer_v2 import adam\n",
    "from keras import optimizers\n",
    "\n",
    "#describe a loss function where itcompares the target and predicted output values; measures how well the neural network models the training data. \n",
    "model.compile(\n",
    "    #here i'Ll configure the loss function,tell keras how to learn\n",
    "    loss = keras.losses.SparseCategoricalCrossentropy(from_logits=True),\n",
    "    optimizer = keras.optimizers.Adam(lr=0.001),\n",
    "    metrics = [\"Accuracy\"],\n",
    "    #sparse_categorical_crossentropy: Used as a loss function for multi-class classification model where the output label is assigned integer value (0, 1, 2, 3…).\n",
    ")\n"
   ]
  },
  {
   "cell_type": "markdown",
   "metadata": {},
   "source": [
    "####  Fit and Evaluate the model"
   ]
  },
  {
   "cell_type": "code",
   "execution_count": 13,
   "metadata": {
    "colab": {
     "base_uri": "https://localhost:8080/"
    },
    "id": "YkPhL6X5XT3P",
    "outputId": "73cb627b-24c2-4291-9ffb-ee0066278d48"
   },
   "outputs": [
    {
     "name": "stdout",
     "output_type": "stream",
     "text": [
      "Epoch 1/5\n",
      "1875/1875 - 8s - loss: 0.0293 - Accuracy: 0.9910 - 8s/epoch - 4ms/step\n",
      "Epoch 2/5\n",
      "1875/1875 - 8s - loss: 0.0231 - Accuracy: 0.9927 - 8s/epoch - 4ms/step\n",
      "Epoch 3/5\n",
      "1875/1875 - 8s - loss: 0.0206 - Accuracy: 0.9933 - 8s/epoch - 4ms/step\n",
      "Epoch 4/5\n",
      "1875/1875 - 8s - loss: 0.0189 - Accuracy: 0.9942 - 8s/epoch - 4ms/step\n",
      "Epoch 5/5\n",
      "1875/1875 - 8s - loss: 0.0186 - Accuracy: 0.9941 - 8s/epoch - 4ms/step\n",
      "1875/1875 - 4s - loss: 0.0118 - Accuracy: 0.9959 - 4s/epoch - 2ms/step\n"
     ]
    },
    {
     "data": {
      "text/plain": [
       "[0.011836199089884758, 0.9958833456039429]"
      ]
     },
     "execution_count": 13,
     "metadata": {},
     "output_type": "execute_result"
    }
   ],
   "source": [
    "#Model fitting is the measure of how well a machine learning model generalizes data similar to that with which it was trained.\n",
    "hist = model.fit(x_train, y_train, batch_size=32, epochs=5, verbose=2)\n",
    "\n",
    "#The batch size is a number of samples processed before the model is updated.\n",
    "#The number of epochs is the number of complete passes through the training dataset.\n",
    "#verbose is the choice that how you want to see the output of your Nural Network while it's training.\n",
    "\n",
    "#now we'll evaluate the data\n",
    "model.evaluate(x_train, y_train, batch_size= 32,verbose=2)\n"
   ]
  },
  {
   "cell_type": "markdown",
   "metadata": {},
   "source": [
    "####  Save the model for later use"
   ]
  },
  {
   "cell_type": "code",
   "execution_count": 8,
   "metadata": {
    "id": "w1tY-i8UsPEn"
   },
   "outputs": [],
   "source": [
    "import os.path\n",
    "if os.path.isfile('models/MNIST_recognizer.h5') is False:\n",
    "  model.save('models/MNIST_recognizer.h5')"
   ]
  },
  {
   "cell_type": "markdown",
   "metadata": {},
   "source": [
    "####  Load and verify the model"
   ]
  },
  {
   "cell_type": "code",
   "execution_count": 9,
   "metadata": {
    "scrolled": true
   },
   "outputs": [
    {
     "name": "stdout",
     "output_type": "stream",
     "text": [
      "Model: \"model\"\n",
      "_________________________________________________________________\n",
      " Layer (type)                Output Shape              Param #   \n",
      "=================================================================\n",
      " input_2 (InputLayer)        [(None, 784)]             0         \n",
      "                                                                 \n",
      " FirstLayer (Dense)          (None, 512)               401920    \n",
      "                                                                 \n",
      " SecondLayer (Dense)         (None, 256)               131328    \n",
      "                                                                 \n",
      " dense_6 (Dense)             (None, 10)                2570      \n",
      "                                                                 \n",
      "=================================================================\n",
      "Total params: 535,818\n",
      "Trainable params: 535,818\n",
      "Non-trainable params: 0\n",
      "_________________________________________________________________\n"
     ]
    }
   ],
   "source": [
    "from tensorflow.keras.models import load_model\n",
    "new_model=load_model('models/MNIST_recognizer.h5')\n",
    "new_model.summary()"
   ]
  },
  {
   "cell_type": "code",
   "execution_count": 20,
   "metadata": {},
   "outputs": [
    {
     "data": {
      "image/png": "[encoded data removed]",
      "text/plain": [
       "<Figure size 640x480 with 1 Axes>"
      ]
     },
     "metadata": {},
     "output_type": "display_data"
    }
   ],
   "source": [
    "fig = plt.figure()\n",
    "plt.plot(hist.history['loss'], color='red', label='Loss on Training Set')\n",
    "plt.plot(hist.history['Accuracy'], color='green', label='Accuracy on Training Set')\n",
    "fig.suptitle('Loss vs Accuracy', fontsize=25)\n",
    "plt.legend(loc=\"lower left\")\n",
    "plt.show()"
   ]
  },
  {
   "cell_type": "code",
   "execution_count": null,
   "metadata": {},
   "outputs": [],
   "source": []
  }
 ],
 "metadata": {
  "colab": {
   "provenance": []
  },
  "kernelspec": {
   "display_name": "Python 3 (ipykernel)",
   "language": "python",
   "name": "python3"
  },
  "language_info": {
   "codemirror_mode": {
    "name": "ipython",
    "version": 3
   },
   "file_extension": ".py",
   "mimetype": "text/x-python",
   "name": "python",
   "nbconvert_exporter": "python",
   "pygments_lexer": "ipython3",
   "version": "3.9.9"
  }
 },
 "nbformat": 4,
 "nbformat_minor": 1
}
